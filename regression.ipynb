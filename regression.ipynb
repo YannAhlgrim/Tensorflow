{
 "cells": [
  {
   "cell_type": "code",
   "execution_count": 1,
   "metadata": {},
   "outputs": [],
   "source": [
    "import tensorflow as tf\n",
    "from keras.models import Sequential\n",
    "from keras.layers import Activation\n",
    "from keras.layers import Dense\n",
    "from keras.optimizers import Adam\n",
    "from sklearn.datasets import load_diabetes\n",
    "from sklearn.model_selection import train_test_split\n",
    "import numpy as np\n",
    "import pandas as pd\n",
    "import matplotlib.pyplot as plt\n"
   ]
  },
  {
   "attachments": {},
   "cell_type": "markdown",
   "metadata": {},
   "source": [
    "Preprocessing Data"
   ]
  },
  {
   "cell_type": "code",
   "execution_count": 3,
   "metadata": {},
   "outputs": [
    {
     "name": "stdout",
     "output_type": "stream",
     "text": [
      "y shape: (309, 1)     x shape: (309, 10)\n"
     ]
    }
   ],
   "source": [
    "df = load_diabetes()\n",
    "x = df.data\n",
    "y = df.target.reshape(-1,1)\n",
    "x_train, x_test, y_train, y_test = train_test_split(x, y, test_size=0.3)\n",
    "x_train = x_train.astype(np.float32)\n",
    "x_test = x_test.astype(np.float32)\n",
    "y_train = y_train.astype(np.float32)\n",
    "y_test = y_test.astype(np.float32)\n",
    "\n",
    "print(f\"y shape: {y_train.shape}     x shape: {x_train.shape}\")"
   ]
  },
  {
   "cell_type": "code",
   "execution_count": 23,
   "metadata": {},
   "outputs": [],
   "source": [
    "def build_model(num_features:int , num_targets: int) -> Sequential:\n",
    "    model = Sequential()\n",
    "    model.add(Dense(units=64, input_shape=(num_features,)))\n",
    "    model.add(Activation(\"relu\"))\n",
    "    model.add(Dense(units=128, input_shape=(num_features,)))\n",
    "    model.add(Activation(\"relu\"))\n",
    "    model.add(Dense(units=num_targets))\n",
    "    return model"
   ]
  },
  {
   "cell_type": "code",
   "execution_count": null,
   "metadata": {},
   "outputs": [],
   "source": [
    "num_features = x_train.shape[1]\n",
    "num_targets = y_train.shape[1]\n",
    "\n",
    "model = build_model(num_features=num_features, num_targets=num_targets)\n",
    "\n",
    "model.summary()\n",
    "\n",
    "model.compile(loss=\"mse\",\n",
    "              optimizer=Adam(learning_rate=0.001),\n",
    "              metrics=[tf.keras.metrics.MAE])\n",
    "\n",
    "history = model.fit (x=x_train, \n",
    "           y=y_train, \n",
    "           epochs=100, \n",
    "           batch_size=128, \n",
    "           verbose=1, \n",
    "           validation_data=(x_test, y_test))\n",
    "\n",
    "scores = model.evaluate(x=x_test, y=y_test)\n",
    "\n",
    "print(f\"Score: {scores}\")\n",
    "\n",
    "# summarize history for loss\n",
    "plt.plot(history.history['loss'])\n",
    "plt.plot(history.history['val_loss'])\n",
    "plt.title('model loss')\n",
    "plt.ylabel('loss')\n",
    "plt.xlabel('epoch')\n",
    "plt.legend(['train', 'validation'], loc='upper left')\n",
    "plt.show()"
   ]
  }
 ],
 "metadata": {
  "kernelspec": {
   "display_name": "data_science",
   "language": "python",
   "name": "python3"
  },
  "language_info": {
   "codemirror_mode": {
    "name": "ipython",
    "version": 3
   },
   "file_extension": ".py",
   "mimetype": "text/x-python",
   "name": "python",
   "nbconvert_exporter": "python",
   "pygments_lexer": "ipython3",
   "version": "3.11.2"
  },
  "orig_nbformat": 4
 },
 "nbformat": 4,
 "nbformat_minor": 2
}
