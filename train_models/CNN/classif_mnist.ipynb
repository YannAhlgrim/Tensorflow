{
 "cells": [
  {
   "cell_type": "code",
   "execution_count": 5,
   "metadata": {},
   "outputs": [],
   "source": [
    "import os\n",
    "import tensorflow as tf\n",
    "from keras.datasets import mnist\n",
    "from keras.preprocessing.image import ImageDataGenerator\n",
    "from sklearn.model_selection import train_test_split\n",
    "from keras.models import Model\n",
    "from keras.layers import Dense\n",
    "from keras.layers import Conv2D\n",
    "from keras.layers import Flatten\n",
    "from keras.layers import Activation\n",
    "from keras.layers import MaxPooling2D\n",
    "from keras.layers import Input\n",
    "from keras.optimizers import Adam\n",
    "from keras.optimizers import SGD\n",
    "from keras.optimizers import RMSprop\n",
    "from keras.utils import to_categorical\n",
    "from keras.models import load_model\n",
    "from keras.callbacks import TensorBoard\n",
    "import numpy as np\n",
    "import matplotlib.pyplot as plt\n",
    "\n",
    "MODELS_DIR = os.path.abspath(\"C:/Projects/tensorflow/models\")\n",
    "MODEL_FILE_PATH = os.path.join(MODELS_DIR, \"mnist_model.h5\")\n",
    "FULL_MODEL_FILE_PATH = os.path.join(MODELS_DIR, \"full_mnist_model\")\n",
    "LOGS_DIR = os.path.abspath(\"C:/Projects/tensorflow/logs\")\n",
    "MODEL_LOGS_DIR = os.path.join(LOGS_DIR, \"mnist_logs\")"
   ]
  },
  {
   "attachments": {},
   "cell_type": "markdown",
   "metadata": {},
   "source": [
    "Preprocessing"
   ]
  },
  {
   "cell_type": "code",
   "execution_count": 6,
   "metadata": {},
   "outputs": [],
   "source": [
    "def get_dataset(num_classes: int) -> tuple[tuple[np.ndarray, np.ndarray], tuple[np.ndarray, np.ndarray], tuple[np.ndarray, np.ndarray]]:\n",
    "    (x_train, y_train), (x_val_, y_val_) = mnist.load_data()\n",
    "    x_train = x_train.astype(np.float32)\n",
    "    x_train = np.expand_dims(x_train, axis=3)\n",
    "    x_val_ = x_val_.astype(np.float32)\n",
    "    x_val_ = np.expand_dims(x_val_, axis=3)\n",
    "    x_val, x_test, y_val, y_test = train_test_split(x_val_, y_val_, test_size=0.66)\n",
    "    x_test = x_test.astype(np.float32)\n",
    "    \n",
    "    # normalize\n",
    "    x_train = x_train/255.0\n",
    "    x_val = x_val/255.0\n",
    "    x_test = x_test/255.0\n",
    "\n",
    "    # Data Augmentation\n",
    "    augment_size = 5_000\n",
    "    image_gen = ImageDataGenerator(\n",
    "        rotation_range=5,\n",
    "        zoom_range=0.05,\n",
    "        width_shift_range=0.08,\n",
    "        height_shift_range=0.08\n",
    "    )\n",
    "    image_gen.fit(x_train, augment=True)\n",
    "    rndm_idxs = np.random.randint(low=x_train.shape[0],high=None, size=augment_size)\n",
    "    x_augmented = x_train[rndm_idxs].copy()\n",
    "    y_augmented = y_train[rndm_idxs].copy()\n",
    "    x_augmented = image_gen.flow(x_augmented, np.zeros(augment_size), batch_size=augment_size, shuffle=False).next()[0]\n",
    "    x_train = np.concatenate((x_train, x_augmented))\n",
    "    y_train = np.concatenate((y_train, y_augmented))\n",
    "    \n",
    "    y_train = to_categorical(y_train, num_classes=num_classes, dtype=np.float32)\n",
    "    y_val = to_categorical(y_val, num_classes=num_classes, dtype=np.float32)\n",
    "    y_test = to_categorical(y_test, num_classes=num_classes, dtype=np.float32)\n",
    "    print (f\"x shape: {x_train.shape}   y shape: {y_train.shape}\")\n",
    "    return (x_train, y_train), (x_val, y_val), (x_test, y_test)\n"
   ]
  },
  {
   "cell_type": "code",
   "execution_count": 7,
   "metadata": {},
   "outputs": [],
   "source": [
    "def build_model(img_shape : tuple[int,int,int], num_classes: int) -> Model:\n",
    "    img_input = Input(img_shape)\n",
    "    x = Conv2D(filters=16, kernel_size=3, padding = \"same\")(img_input)\n",
    "    x = Activation(\"relu\")(x)\n",
    "    x = Conv2D(filters=16, kernel_size=3)(x)\n",
    "    x = Activation(\"relu\")(x)\n",
    "    x = MaxPooling2D()(x)\n",
    "    x = Conv2D(filters=32, kernel_size=3)(x)\n",
    "    x = Activation(\"relu\")(x)\n",
    "    x = Conv2D(filters=32, kernel_size=3)(x)\n",
    "    x = Activation(\"relu\")(x)\n",
    "    x = MaxPooling2D()(x)\n",
    "     \n",
    "    x = Flatten()(x)\n",
    "    x = Dense(units=128)(x)\n",
    "    x = Activation(\"relu\")(x)\n",
    "    x = Dense(units=num_classes)(x)\n",
    "    y_pred = Activation(\"softmax\")(x)\n",
    "    \n",
    "    model = Model(\n",
    "        inputs=[img_input],\n",
    "        outputs=[y_pred]\n",
    "    )\n",
    "    return model"
   ]
  },
  {
   "attachments": {},
   "cell_type": "markdown",
   "metadata": {},
   "source": [
    "Train the Model"
   ]
  },
  {
   "cell_type": "code",
   "execution_count": 12,
   "metadata": {},
   "outputs": [
    {
     "name": "stdout",
     "output_type": "stream",
     "text": [
      "x shape: (65000, 28, 28, 1)   y shape: (65000, 10)\n",
      "Model: \"model_1\"\n",
      "_________________________________________________________________\n",
      " Layer (type)                Output Shape              Param #   \n",
      "=================================================================\n",
      " input_2 (InputLayer)        [(None, 28, 28, 1)]       0         \n",
      "                                                                 \n",
      " conv2d_4 (Conv2D)           (None, 28, 28, 16)        160       \n",
      "                                                                 \n",
      " activation_6 (Activation)   (None, 28, 28, 16)        0         \n",
      "                                                                 \n",
      " conv2d_5 (Conv2D)           (None, 26, 26, 16)        2320      \n",
      "                                                                 \n",
      " activation_7 (Activation)   (None, 26, 26, 16)        0         \n",
      "                                                                 \n",
      " max_pooling2d_2 (MaxPooling  (None, 13, 13, 16)       0         \n",
      " 2D)                                                             \n",
      "                                                                 \n",
      " conv2d_6 (Conv2D)           (None, 11, 11, 32)        4640      \n",
      "                                                                 \n",
      " activation_8 (Activation)   (None, 11, 11, 32)        0         \n",
      "                                                                 \n",
      " conv2d_7 (Conv2D)           (None, 9, 9, 32)          9248      \n",
      "                                                                 \n",
      " activation_9 (Activation)   (None, 9, 9, 32)          0         \n",
      "                                                                 \n",
      " max_pooling2d_3 (MaxPooling  (None, 4, 4, 32)         0         \n",
      " 2D)                                                             \n",
      "                                                                 \n",
      " flatten_1 (Flatten)         (None, 512)               0         \n",
      "                                                                 \n",
      " dense_2 (Dense)             (None, 128)               65664     \n",
      "                                                                 \n",
      " activation_10 (Activation)  (None, 128)               0         \n",
      "                                                                 \n",
      " dense_3 (Dense)             (None, 10)                1290      \n",
      "                                                                 \n",
      " activation_11 (Activation)  (None, 10)                0         \n",
      "                                                                 \n",
      "=================================================================\n",
      "Total params: 83,322\n",
      "Trainable params: 83,322\n",
      "Non-trainable params: 0\n",
      "_________________________________________________________________\n",
      "Epoch 1/10\n",
      "508/508 [==============================] - 25s 48ms/step - loss: 0.2237 - accuracy: 0.9324 - val_loss: 0.0525 - val_accuracy: 0.9832\n",
      "Epoch 2/10\n",
      "508/508 [==============================] - 24s 48ms/step - loss: 0.0634 - accuracy: 0.9808 - val_loss: 0.0438 - val_accuracy: 0.9850\n",
      "Epoch 3/10\n",
      "508/508 [==============================] - 24s 48ms/step - loss: 0.0434 - accuracy: 0.9860 - val_loss: 0.0423 - val_accuracy: 0.9862\n",
      "Epoch 4/10\n",
      "508/508 [==============================] - 25s 49ms/step - loss: 0.0321 - accuracy: 0.9897 - val_loss: 0.0379 - val_accuracy: 0.9879\n",
      "Epoch 5/10\n",
      "508/508 [==============================] - 25s 49ms/step - loss: 0.0269 - accuracy: 0.9913 - val_loss: 0.0332 - val_accuracy: 0.9891\n",
      "Epoch 6/10\n",
      "508/508 [==============================] - 25s 49ms/step - loss: 0.0211 - accuracy: 0.9935 - val_loss: 0.0358 - val_accuracy: 0.9894\n",
      "Epoch 7/10\n",
      "508/508 [==============================] - 25s 49ms/step - loss: 0.0180 - accuracy: 0.9943 - val_loss: 0.0388 - val_accuracy: 0.9882\n",
      "Epoch 8/10\n",
      "508/508 [==============================] - 24s 48ms/step - loss: 0.0153 - accuracy: 0.9951 - val_loss: 0.0424 - val_accuracy: 0.9865\n",
      "Epoch 9/10\n",
      "508/508 [==============================] - 24s 48ms/step - loss: 0.0133 - accuracy: 0.9957 - val_loss: 0.0330 - val_accuracy: 0.9885\n",
      "Epoch 10/10\n",
      "508/508 [==============================] - 24s 48ms/step - loss: 0.0110 - accuracy: 0.9962 - val_loss: 0.0326 - val_accuracy: 0.9900\n"
     ]
    }
   ],
   "source": [
    "num_classes = 10\n",
    "img_shape = (28, 28, 1)\n",
    "(x_train, y_train), (x_val, y_val), (x_test, y_test) = get_dataset(num_classes=num_classes)\n",
    "\n",
    "model = build_model(img_shape=img_shape,num_classes=num_classes)\n",
    "\n",
    "model.summary()\n",
    "\n",
    "model.compile(loss=\"categorical_crossentropy\",\n",
    "              optimizer=Adam(learning_rate=0.001),\n",
    "              metrics=[\"accuracy\"])\n",
    "\n",
    "tb_callback = TensorBoard(\n",
    "    log_dir=MODEL_LOGS_DIR, histogram_freq=1, write_graph=True\n",
    ")\n",
    "\n",
    "history = model.fit (x=x_train, \n",
    "           y=y_train, \n",
    "           epochs=10, \n",
    "           batch_size=128, \n",
    "           verbose=1, \n",
    "           validation_data=(x_val, y_val),\n",
    "           callbacks=[tb_callback])\n"
   ]
  },
  {
   "attachments": {},
   "cell_type": "markdown",
   "metadata": {},
   "source": [
    "Plot Accuracy"
   ]
  },
  {
   "cell_type": "code",
   "execution_count": 9,
   "metadata": {},
   "outputs": [
    {
     "name": "stdout",
     "output_type": "stream",
     "text": [
      "207/207 [==============================] - 1s 4ms/step - loss: 0.0262 - accuracy: 0.9929\n",
      "Score: [0.026173729449510574, 0.992878794670105]\n"
     ]
    },
    {
     "data": {
      "image/png": "[encoded data removed]",
      "text/plain": [
       "<Figure size 640x480 with 1 Axes>"
      ]
     },
     "metadata": {},
     "output_type": "display_data"
    }
   ],
   "source": [
    "scores = model.evaluate(x=x_test, y=y_test)\n",
    "print(f\"Score: {scores}\")\n",
    "\n",
    "plt.plot(history.history['accuracy'])\n",
    "plt.plot(history.history['val_accuracy'])\n",
    "plt.title('model accuracy')\n",
    "plt.ylabel('accuracy')\n",
    "plt.xlabel('epoch')\n",
    "plt.legend(['train', 'validation'], loc='upper left')\n",
    "plt.show()"
   ]
  },
  {
   "attachments": {},
   "cell_type": "markdown",
   "metadata": {},
   "source": [
    "Download Model/Weights"
   ]
  },
  {
   "cell_type": "code",
   "execution_count": null,
   "metadata": {},
   "outputs": [],
   "source": [
    "#weights\n",
    "model.save_weights(filepath=MODEL_FILE_PATH)\n",
    "model.save(filepath=FULL_MODEL_FILE_PATH)"
   ]
  },
  {
   "attachments": {},
   "cell_type": "markdown",
   "metadata": {},
   "source": [
    "Load Model/Weights"
   ]
  },
  {
   "cell_type": "code",
   "execution_count": 11,
   "metadata": {},
   "outputs": [],
   "source": [
    "model.load_weights(filepath=MODEL_FILE_PATH)\n",
    "model = load_model(filepath=FULL_MODEL_FILE_PATH)"
   ]
  }
 ],
 "metadata": {
  "kernelspec": {
   "display_name": "data_science",
   "language": "python",
   "name": "python3"
  },
  "language_info": {
   "codemirror_mode": {
    "name": "ipython",
    "version": 3
   },
   "file_extension": ".py",
   "mimetype": "text/x-python",
   "name": "python",
   "nbconvert_exporter": "python",
   "pygments_lexer": "ipython3",
   "version": "3.11.2"
  },
  "orig_nbformat": 4
 },
 "nbformat": 4,
 "nbformat_minor": 2
}
