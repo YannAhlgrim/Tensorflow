{
 "cells": [
  {
   "cell_type": "code",
   "execution_count": 17,
   "metadata": {},
   "outputs": [],
   "source": [
    "import os\n",
    "import shutil\n",
    "import tensorflow as tf\n",
    "from skimage import transform\n",
    "import cv2\n",
    "from keras.preprocessing.image import ImageDataGenerator\n",
    "from sklearn.model_selection import train_test_split\n",
    "from sklearn.model_selection import ParameterGrid\n",
    "from keras.models import Model\n",
    "from keras.layers import Dense\n",
    "from keras.layers import Conv2D\n",
    "from keras.layers import Flatten\n",
    "from keras.layers import GlobalAveragePooling2D\n",
    "from keras.layers import Activation\n",
    "from keras.layers import MaxPooling2D\n",
    "from keras.layers import Input\n",
    "from keras.optimizers import Adam\n",
    "from keras.optimizers import SGD\n",
    "from keras.optimizers import RMSprop\n",
    "from keras.utils import to_categorical\n",
    "from keras.models import load_model\n",
    "from keras.callbacks import TensorBoard, EarlyStopping, LearningRateScheduler\n",
    "import numpy as np\n",
    "import matplotlib.pyplot as plt\n",
    "\n",
    "MODELS_DIR = os.path.abspath(\"C:/Projects/tensorflow/models\")\n",
    "MODEL_FILE_PATH = os.path.join(MODELS_DIR, \"catsdogs_model.h5\")\n",
    "FULL_MODEL_FILE_PATH = os.path.join(MODELS_DIR, \"full_catsdogs_model\")\n",
    "LOGS_DIR = os.path.abspath(\"C:/Projects/tensorflow/logs\")\n",
    "MODEL_LOGS_DIR = os.path.join(LOGS_DIR, \"catsdogs_logs\")\n",
    "DATA_DIR = os.path.join(\"C:/Projects/tensorflow/training_data/PetImages\")\n",
    "X_FILE_PATH = os.path.join(DATA_DIR, \"x.npy\")\n",
    "Y_FILE_PATH = os.path.join(DATA_DIR, \"y.npy\")\n",
    "IMG_SIZE = 32\n",
    "IMG_DEPTH = 3\n",
    "IMG_SHAPE = (IMG_SIZE, IMG_SIZE, IMG_DEPTH)"
   ]
  },
  {
   "attachments": {},
   "cell_type": "markdown",
   "metadata": {},
   "source": [
    "Extract Images"
   ]
  },
  {
   "cell_type": "code",
   "execution_count": 38,
   "metadata": {},
   "outputs": [],
   "source": [
    "def extract_cats_dogs()->None:\n",
    "    cats_dir = os.path.join(DATA_DIR, \"Cat\")\n",
    "    dogs_dir = os.path.join(DATA_DIR, \"Dog\")\n",
    "    \n",
    "    dirs = [cats_dir, dogs_dir]\n",
    "    class_names = [\"cat\", \"dog\"]\n",
    "    \n",
    "    for d in dirs:\n",
    "        for f in os.listdir(d):\n",
    "            if f.split(\".\")[-1] != \"jpg\":\n",
    "                print(f\"Removing file: {f}\")\n",
    "                os.remove(os.path.join(d, f))\n",
    "\n",
    "    num_cats = len(os.listdir(cats_dir))\n",
    "    num_dogs = len(os.listdir(dogs_dir))\n",
    "    num_images = num_cats + num_dogs\n",
    "    \n",
    "    x = np.zeros(\n",
    "        shape=(num_images, IMG_SIZE, IMG_SIZE, IMG_DEPTH),\n",
    "        dtype=np.float32\n",
    "    )\n",
    "    y = np.zeros(\n",
    "        shape=(num_images, ),\n",
    "        dtype=np.float32\n",
    "    )\n",
    "    \n",
    "    cnt = 0\n",
    "    for d, class_name in zip(dirs, class_names):\n",
    "        for f in os.listdir(d):\n",
    "            img_file_path = os.path.join(d,f)\n",
    "            try:\n",
    "                img = cv2.imread(img_file_path, cv2.IMREAD_COLOR)\n",
    "                img = cv2.cvtColor(img, cv2.COLOR_BGR2RGB)\n",
    "                x[cnt] = transform.resize(\n",
    "                    image=img,\n",
    "                    output_shape=IMG_SHAPE\n",
    "                )\n",
    "                if class_name == \"cat\":\n",
    "                    y[cnt] = 1\n",
    "                elif class_name == \"dog\":\n",
    "                    y[cnt] = 0\n",
    "                else:\n",
    "                    print(\"Invalid class name!\")\n",
    "                cnt+=1\n",
    "            except: # noqa: E722\n",
    "                print(f\"Image {f} cannot be read!\")\n",
    "                os.remove(img_file_path)\n",
    "                \n",
    "    #Dropping non-readable image idxs\n",
    "    x = x[:cnt]\n",
    "    y = y[:cnt]\n",
    "    \n",
    "    np.save(X_FILE_PATH, x)\n",
    "    np.save(Y_FILE_PATH, y)\n",
    "\n",
    "extract_cats_dogs()"
   ]
  },
  {
   "attachments": {},
   "cell_type": "markdown",
   "metadata": {},
   "source": [
    "Preprocessing"
   ]
  },
  {
   "cell_type": "code",
   "execution_count": 6,
   "metadata": {},
   "outputs": [],
   "source": [
    "def get_dataset(num_classes: int) -> tuple[tuple[np.ndarray, np.ndarray], tuple[np.ndarray, np.ndarray], tuple[np.ndarray, np.ndarray]]:\n",
    "    x = np.load(X_FILE_PATH)\n",
    "    y = np.load(Y_FILE_PATH)\n",
    "    x_train, x_test, y_train, y_test = train_test_split(x, y, test_size=0.20)\n",
    "    x_train, x_val, y_train, y_val = train_test_split(x_train, y_train, test_size=0.33)\n",
    "    \n",
    "    # Data Augmentation\n",
    "    augment_size = 5_000\n",
    "    image_gen = ImageDataGenerator(\n",
    "        rotation_range=5,\n",
    "        zoom_range=0.05,\n",
    "        width_shift_range=0.08,\n",
    "        height_shift_range=0.08\n",
    "    )\n",
    "    image_gen.fit(x_train, augment=True)\n",
    "    rndm_idxs = np.random.randint(low=x_train.shape[0],high=None, size=augment_size)\n",
    "    x_augmented = x_train[rndm_idxs].copy()\n",
    "    y_augmented = y_train[rndm_idxs].copy()\n",
    "    x_augmented = image_gen.flow(x_augmented, np.zeros(augment_size), batch_size=augment_size, shuffle=False).next()[0]\n",
    "    x_train = np.concatenate((x_train, x_augmented))\n",
    "    y_train = np.concatenate((y_train, y_augmented))\n",
    "    \n",
    "    y_train = to_categorical(y_train, num_classes=num_classes, dtype=np.float32)\n",
    "    y_val = to_categorical(y_val, num_classes=num_classes, dtype=np.float32)\n",
    "    y_test = to_categorical(y_test, num_classes=num_classes, dtype=np.float32)\n",
    "    print (f\"x shape: {x_train.shape}   y shape: {y_train.shape}\")\n",
    "    return (x_train, y_train), (x_val, y_val), (x_test, y_test)\n"
   ]
  },
  {
   "attachments": {},
   "cell_type": "markdown",
   "metadata": {},
   "source": [
    "Get DATA"
   ]
  },
  {
   "cell_type": "code",
   "execution_count": 7,
   "metadata": {},
   "outputs": [
    {
     "name": "stdout",
     "output_type": "stream",
     "text": [
      "x shape: (18370, 32, 32, 3)   y shape: (18370, 2)\n"
     ]
    }
   ],
   "source": [
    "num_classes = 2\n",
    "img_shape = (32, 32, 3)\n",
    "(x_train, y_train), (x_val, y_val), (x_test, y_test) = get_dataset(num_classes=num_classes)"
   ]
  },
  {
   "cell_type": "code",
   "execution_count": 13,
   "metadata": {},
   "outputs": [],
   "source": [
    "def build_model(img_shape : tuple[int,int,int], num_classes: int, filters1: int, filters2: int,\n",
    "                filters3: int, filters4: int, kernel1: int, kernel2: int, kernel3: int, kernel4: int,\n",
    "                dense_layer: int, learning_rate: float, optimizer: tf.keras.optimizers.Optimizer) -> Model:\n",
    "    \n",
    "    img_input = Input(img_shape)\n",
    "    x = Conv2D(filters=filters1, kernel_size=kernel1, padding = \"same\")(img_input)\n",
    "    x = Activation(\"relu\")(x)\n",
    "    x = Conv2D(filters=filters2, kernel_size=kernel2)(x)\n",
    "    x = Activation(\"relu\")(x)\n",
    "    x = MaxPooling2D()(x)\n",
    "    x = Conv2D(filters=filters3, kernel_size=kernel3)(x)\n",
    "    x = Activation(\"relu\")(x)\n",
    "    x = MaxPooling2D()(x)\n",
    "    x = Conv2D(filters=filters4, kernel_size=kernel4)(x)\n",
    "    x = Activation(\"relu\")(x)\n",
    "     \n",
    "    x = GlobalAveragePooling2D()(x)\n",
    "    x = Dense(units=dense_layer)(x)\n",
    "    x = Activation(\"relu\")(x)\n",
    "    x = Dense(units=num_classes)(x)\n",
    "    y_pred = Activation(\"softmax\")(x)\n",
    "    \n",
    "    model = Model(\n",
    "        inputs=[img_input],\n",
    "        outputs=[y_pred]\n",
    "    )\n",
    "    \n",
    "    model.compile(loss=\"categorical_crossentropy\",\n",
    "              optimizer=optimizer(learning_rate=learning_rate),\n",
    "              metrics=[\"accuracy\"])\n",
    "    \n",
    "    return model"
   ]
  },
  {
   "attachments": {},
   "cell_type": "markdown",
   "metadata": {},
   "source": [
    "Build Model with GridSearch"
   ]
  },
  {
   "attachments": {},
   "cell_type": "markdown",
   "metadata": {},
   "source": [
    "Train the Model"
   ]
  },
  {
   "cell_type": "code",
   "execution_count": 15,
   "metadata": {},
   "outputs": [
    {
     "name": "stdout",
     "output_type": "stream",
     "text": [
      "0.Combination Run:\n",
      "Model: \"model_2\"\n",
      "_________________________________________________________________\n",
      " Layer (type)                Output Shape              Param #   \n",
      "=================================================================\n",
      " input_4 (InputLayer)        [(None, 32, 32, 3)]       0         \n",
      "                                                                 \n",
      " conv2d_10 (Conv2D)          (None, 32, 32, 32)        896       \n",
      "                                                                 \n",
      " activation_13 (Activation)  (None, 32, 32, 32)        0         \n",
      "                                                                 \n",
      " conv2d_11 (Conv2D)          (None, 30, 30, 32)        9248      \n",
      "                                                                 \n",
      " activation_14 (Activation)  (None, 30, 30, 32)        0         \n",
      "                                                                 \n",
      " max_pooling2d_6 (MaxPooling  (None, 15, 15, 32)       0         \n",
      " 2D)                                                             \n",
      "                                                                 \n",
      " conv2d_12 (Conv2D)          (None, 13, 13, 64)        18496     \n",
      "                                                                 \n",
      " activation_15 (Activation)  (None, 13, 13, 64)        0         \n",
      "                                                                 \n",
      " max_pooling2d_7 (MaxPooling  (None, 6, 6, 64)         0         \n",
      " 2D)                                                             \n",
      "                                                                 \n",
      " conv2d_13 (Conv2D)          (None, 4, 4, 64)          36928     \n",
      "                                                                 \n",
      " activation_16 (Activation)  (None, 4, 4, 64)          0         \n",
      "                                                                 \n",
      " global_average_pooling2d (G  (None, 64)               0         \n",
      " lobalAveragePooling2D)                                          \n",
      "                                                                 \n",
      " dense_4 (Dense)             (None, 32)                2080      \n",
      "                                                                 \n",
      " activation_17 (Activation)  (None, 32)                0         \n",
      "                                                                 \n",
      " dense_5 (Dense)             (None, 2)                 66        \n",
      "                                                                 \n",
      " activation_18 (Activation)  (None, 2)                 0         \n",
      "                                                                 \n",
      "=================================================================\n",
      "Total params: 67,714\n",
      "Trainable params: 67,714\n",
      "Non-trainable params: 0\n",
      "_________________________________________________________________\n",
      "Epoch 1/100\n",
      "144/144 [==============================] - 15s 101ms/step - loss: 0.6827 - accuracy: 0.5471 - val_loss: 0.6712 - val_accuracy: 0.5797\n",
      "Epoch 2/100\n",
      "144/144 [==============================] - 15s 102ms/step - loss: 0.6485 - accuracy: 0.6186 - val_loss: 0.6288 - val_accuracy: 0.6453\n",
      "Epoch 3/100\n",
      "144/144 [==============================] - 15s 103ms/step - loss: 0.6134 - accuracy: 0.6683 - val_loss: 0.6323 - val_accuracy: 0.6420\n",
      "Epoch 4/100\n",
      "144/144 [==============================] - 15s 104ms/step - loss: 0.5702 - accuracy: 0.7070 - val_loss: 0.5801 - val_accuracy: 0.7001\n",
      "Epoch 5/100\n",
      "144/144 [==============================] - 15s 105ms/step - loss: 0.5433 - accuracy: 0.7295 - val_loss: 0.5333 - val_accuracy: 0.7352\n",
      "Epoch 6/100\n",
      "144/144 [==============================] - 15s 105ms/step - loss: 0.5076 - accuracy: 0.7507 - val_loss: 0.5013 - val_accuracy: 0.7540\n",
      "Epoch 7/100\n",
      "144/144 [==============================] - 15s 105ms/step - loss: 0.4845 - accuracy: 0.7682 - val_loss: 0.4736 - val_accuracy: 0.7725\n",
      "Epoch 8/100\n",
      "144/144 [==============================] - 15s 105ms/step - loss: 0.4623 - accuracy: 0.7807 - val_loss: 0.4634 - val_accuracy: 0.7794\n",
      "Epoch 9/100\n",
      "144/144 [==============================] - 15s 105ms/step - loss: 0.4428 - accuracy: 0.7940 - val_loss: 0.4617 - val_accuracy: 0.7844\n",
      "Epoch 10/100\n",
      "144/144 [==============================] - 15s 105ms/step - loss: 0.4242 - accuracy: 0.8054 - val_loss: 0.4837 - val_accuracy: 0.7698\n",
      "Epoch 11/100\n",
      "144/144 [==============================] - 15s 105ms/step - loss: 0.4137 - accuracy: 0.8112 - val_loss: 0.4321 - val_accuracy: 0.7997\n",
      "Epoch 12/100\n",
      "144/144 [==============================] - 15s 105ms/step - loss: 0.3946 - accuracy: 0.8207 - val_loss: 0.4531 - val_accuracy: 0.7921\n",
      "Epoch 13/100\n",
      "144/144 [==============================] - 15s 105ms/step - loss: 0.3874 - accuracy: 0.8247 - val_loss: 0.4173 - val_accuracy: 0.8135\n",
      "Epoch 14/100\n",
      "144/144 [==============================] - 15s 106ms/step - loss: 0.3679 - accuracy: 0.8367 - val_loss: 0.4224 - val_accuracy: 0.8138\n",
      "Epoch 15/100\n",
      "144/144 [==============================] - 15s 105ms/step - loss: 0.3565 - accuracy: 0.8446 - val_loss: 0.4169 - val_accuracy: 0.8160\n",
      "Epoch 16/100\n",
      "144/144 [==============================] - 15s 104ms/step - loss: 0.3416 - accuracy: 0.8489 - val_loss: 0.4039 - val_accuracy: 0.8204\n",
      "Epoch 17/100\n",
      "144/144 [==============================] - 15s 105ms/step - loss: 0.3212 - accuracy: 0.8603 - val_loss: 0.4054 - val_accuracy: 0.8234\n",
      "Epoch 18/100\n",
      "144/144 [==============================] - 15s 105ms/step - loss: 0.3118 - accuracy: 0.8647 - val_loss: 0.4256 - val_accuracy: 0.8120\n",
      "Epoch 19/100\n",
      "144/144 [==============================] - 15s 104ms/step - loss: 0.3023 - accuracy: 0.8690 - val_loss: 0.4180 - val_accuracy: 0.8239\n",
      "Epoch 20/100\n",
      "144/144 [==============================] - 15s 104ms/step - loss: 0.2931 - accuracy: 0.8740 - val_loss: 0.4173 - val_accuracy: 0.8251\n",
      "Epoch 21/100\n",
      "144/144 [==============================] - ETA: 0s - loss: 0.2720 - accuracy: 0.8832Restoring model weights from the end of the best epoch: 16.\n",
      "144/144 [==============================] - 15s 104ms/step - loss: 0.2720 - accuracy: 0.8832 - val_loss: 0.4209 - val_accuracy: 0.8210\n",
      "Epoch 21: early stopping\n",
      "156/156 [==============================] - 1s 7ms/step - loss: 0.3975 - accuracy: 0.8214\n"
     ]
    },
    {
     "data": {
      "image/png": "[encoded data removed]",
      "text/plain": [
       "<Figure size 640x480 with 1 Axes>"
      ]
     },
     "metadata": {},
     "output_type": "display_data"
    }
   ],
   "source": [
    "param_grid = {\n",
    "    \"filters1\": [32], \"filters2\": [32], \"filters3\": [64], \"filters4\": [64],\n",
    "    \"kernel1\": [3], \"kernel2\": [3], \"kernel3\": [3],\n",
    "    \"kernel4\": [3], \"dense_layer\": [32], \"learning_rate\": [0.001],\n",
    "    \"optimizer\": [Adam]\n",
    "}\n",
    "\n",
    "results = {\n",
    "    \"best_score\": -np.inf,\n",
    "    \"best_params\": {},\n",
    "    \"val_scores\": [],\n",
    "    \"params\": []\n",
    "}\n",
    "\n",
    "grid = ParameterGrid(param_grid= param_grid)\n",
    "\n",
    "for idx, param in enumerate(grid):\n",
    "    print(f\"{idx}.Combination Run:\")\n",
    "    \n",
    "    model = build_model(img_shape=img_shape,num_classes=num_classes, **param)\n",
    "    \n",
    "    model.summary()\n",
    "\n",
    "    model_log_dir = os.path.join(LOGS_DIR, f\"modelGrid{idx}\")\n",
    "    if os.path.exists(model_log_dir):\n",
    "        shutil.rmtree(model_log_dir)\n",
    "        os.mkdir(model_log_dir)\n",
    "        \n",
    "    tb_callback = TensorBoard(\n",
    "        log_dir=model_log_dir,\n",
    "        histogram_freq=0\n",
    "    )\n",
    "    \n",
    "    es_callback = EarlyStopping(\n",
    "        monitor=\"val_accuracy\",\n",
    "        patience=5,\n",
    "        verbose=1,\n",
    "        restore_best_weights=True,\n",
    "        min_delta=0.005\n",
    "    )\n",
    "\n",
    "\n",
    "    history = model.fit (x=x_train, \n",
    "            y=y_train, \n",
    "            epochs=100, \n",
    "            batch_size=128, \n",
    "            verbose=1, \n",
    "            validation_data=(x_val, y_val),\n",
    "            callbacks=[tb_callback, es_callback])\n",
    "    \n",
    "    #Plot Accuracy\n",
    "    scores = model.evaluate(x=x_test, y=y_test)\n",
    "    \n",
    "    results[\"val_scores\"].append(scores[1])\n",
    "    results[\"params\"].append(param)\n",
    "\n",
    "    plt.plot(history.history['accuracy'])\n",
    "    plt.plot(history.history['val_accuracy'])\n",
    "    plt.title('model accuracy')\n",
    "    plt.ylabel('accuracy')\n",
    "    plt.xlabel('epoch')\n",
    "    plt.legend(['train', 'validation'], loc='upper left')\n",
    "    plt.show()\n"
   ]
  },
  {
   "attachments": {},
   "cell_type": "markdown",
   "metadata": {},
   "source": [
    "Best run"
   ]
  },
  {
   "cell_type": "code",
   "execution_count": 16,
   "metadata": {},
   "outputs": [
    {
     "name": "stdout",
     "output_type": "stream",
     "text": [
      "156/156 [==============================] - 1s 6ms/step - loss: 0.3975 - accuracy: 0.8214\n",
      "Best score: 0.8214070796966553 using params: {'dense_layer': 32, 'filters1': 32, 'filters2': 32, 'filters3': 64, 'filters4': 64, 'kernel1': 3, 'kernel2': 3, 'kernel3': 3, 'kernel4': 3, 'learning_rate': 0.001, 'optimizer': <class 'keras.optimizers.legacy.adam.Adam'>} \n",
      "\n",
      "Score: 0.8214070796966553 using params: {'dense_layer': 32, 'filters1': 32, 'filters2': 32, 'filters3': 64, 'filters4': 64, 'kernel1': 3, 'kernel2': 3, 'kernel3': 3, 'kernel4': 3, 'learning_rate': 0.001, 'optimizer': <class 'keras.optimizers.legacy.adam.Adam'>}\n"
     ]
    }
   ],
   "source": [
    "scores = model.evaluate(x=x_test, y=y_test)\n",
    "best_run_idx = np.argmax(results[\"val_scores\"])\n",
    "results[\"best_score\"] = results[\"val_scores\"][best_run_idx]\n",
    "results[\"best_params\"] = results[\"params\"][best_run_idx]\n",
    "print(f\"Best score: {results['best_score']} using params: {results['best_params']} \\n\")\n",
    "\n",
    "scores = results[\"val_scores\"]\n",
    "params = results[\"params\"]\n",
    "for score, param in zip(scores, params):\n",
    "    print(f\"Score: {score} using params: {param}\")"
   ]
  },
  {
   "attachments": {},
   "cell_type": "markdown",
   "metadata": {},
   "source": [
    "Download Model/Weights"
   ]
  },
  {
   "cell_type": "code",
   "execution_count": null,
   "metadata": {},
   "outputs": [],
   "source": [
    "#weights\n",
    "model.save_weights(filepath=MODEL_FILE_PATH)\n",
    "model.save(filepath=FULL_MODEL_FILE_PATH)"
   ]
  },
  {
   "attachments": {},
   "cell_type": "markdown",
   "metadata": {},
   "source": [
    "Load Model/Weights"
   ]
  },
  {
   "cell_type": "code",
   "execution_count": null,
   "metadata": {},
   "outputs": [],
   "source": [
    "model.load_weights(filepath=MODEL_FILE_PATH)\n",
    "model = load_model(filepath=FULL_MODEL_FILE_PATH)"
   ]
  }
 ],
 "metadata": {
  "kernelspec": {
   "display_name": "data_science",
   "language": "python",
   "name": "python3"
  },
  "language_info": {
   "codemirror_mode": {
    "name": "ipython",
    "version": 3
   },
   "file_extension": ".py",
   "mimetype": "text/x-python",
   "name": "python",
   "nbconvert_exporter": "python",
   "pygments_lexer": "ipython3",
   "version": "3.11.2"
  },
  "orig_nbformat": 4
 },
 "nbformat": 4,
 "nbformat_minor": 2
}
