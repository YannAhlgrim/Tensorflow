{
 "cells": [
  {
   "cell_type": "code",
   "execution_count": 6,
   "metadata": {},
   "outputs": [],
   "source": [
    "import os\n",
    "import tensorflow as tf\n",
    "from keras.datasets import cifar10\n",
    "from keras.preprocessing.image import ImageDataGenerator\n",
    "from sklearn.model_selection import train_test_split\n",
    "from keras.models import Model\n",
    "from keras.layers import Dense\n",
    "from keras.layers import Conv2D\n",
    "from keras.layers import Flatten\n",
    "from keras.layers import Activation\n",
    "from keras.layers import MaxPooling2D\n",
    "from keras.layers import Input\n",
    "from keras.optimizers import Adam\n",
    "from keras.optimizers import SGD\n",
    "from keras.optimizers import RMSprop\n",
    "from keras.utils import to_categorical\n",
    "from keras.models import load_model\n",
    "from keras.callbacks import TensorBoard\n",
    "import numpy as np\n",
    "import matplotlib.pyplot as plt\n",
    "\n",
    "MODELS_DIR = os.path.abspath(\"C:/Projects/tensorflow/models\")\n",
    "MODEL_FILE_PATH = os.path.join(MODELS_DIR, \"mnist_model.h5\")\n",
    "FULL_MODEL_FILE_PATH = os.path.join(MODELS_DIR, \"full_mnist_model\")\n",
    "LOGS_DIR = os.path.abspath(\"C:/Projects/tensorflow/logs\")\n",
    "MODEL_LOGS_DIR = os.path.join(LOGS_DIR, \"mnist_logs\")"
   ]
  },
  {
   "attachments": {},
   "cell_type": "markdown",
   "metadata": {},
   "source": [
    "Preprocessing"
   ]
  },
  {
   "cell_type": "code",
   "execution_count": 13,
   "metadata": {},
   "outputs": [],
   "source": [
    "def get_dataset(num_classes: int) -> tuple[tuple[np.ndarray, np.ndarray], tuple[np.ndarray, np.ndarray], tuple[np.ndarray, np.ndarray]]:\n",
    "    (x_train, y_train), (x_val_, y_val_) = cifar10.load_data()\n",
    "    x_train = x_train.astype(np.float32)\n",
    "    x_val_ = x_val_.astype(np.float32)\n",
    "    x_val, x_test, y_val, y_test = train_test_split(x_val_, y_val_, test_size=0.66)\n",
    "    x_test = x_test.astype(np.float32)\n",
    "    \n",
    "    # normalize\n",
    "    x_train = x_train/255.0\n",
    "    x_val = x_val/255.0\n",
    "    x_test = x_test/255.0\n",
    "\n",
    "    # Data Augmentation\n",
    "    augment_size = 5_000\n",
    "    image_gen = ImageDataGenerator(\n",
    "        rotation_range=5,\n",
    "        zoom_range=0.05,\n",
    "        width_shift_range=0.08,\n",
    "        height_shift_range=0.08\n",
    "    )\n",
    "    image_gen.fit(x_train, augment=True)\n",
    "    rndm_idxs = np.random.randint(low=x_train.shape[0],high=None, size=augment_size)\n",
    "    x_augmented = x_train[rndm_idxs].copy()\n",
    "    y_augmented = y_train[rndm_idxs].copy()\n",
    "    x_augmented = image_gen.flow(x_augmented, np.zeros(augment_size), batch_size=augment_size, shuffle=False).next()[0]\n",
    "    x_train = np.concatenate((x_train, x_augmented))\n",
    "    y_train = np.concatenate((y_train, y_augmented))\n",
    "    \n",
    "    y_train = to_categorical(y_train, num_classes=num_classes, dtype=np.float32)\n",
    "    y_val = to_categorical(y_val, num_classes=num_classes, dtype=np.float32)\n",
    "    y_test = to_categorical(y_test, num_classes=num_classes, dtype=np.float32)\n",
    "    print (f\"x shape: {x_train.shape}   y shape: {y_train.shape}\")\n",
    "    return (x_train, y_train), (x_val, y_val), (x_test, y_test)\n"
   ]
  },
  {
   "attachments": {},
   "cell_type": "markdown",
   "metadata": {},
   "source": [
    "Get DATA"
   ]
  },
  {
   "cell_type": "code",
   "execution_count": 14,
   "metadata": {},
   "outputs": [
    {
     "name": "stdout",
     "output_type": "stream",
     "text": [
      "x shape: (55000, 32, 32, 3)   y shape: (55000, 10)\n"
     ]
    }
   ],
   "source": [
    "num_classes = 10\n",
    "img_shape = (32, 32, 3)\n",
    "(x_train, y_train), (x_val, y_val), (x_test, y_test) = get_dataset(num_classes=num_classes)"
   ]
  },
  {
   "cell_type": "code",
   "execution_count": 8,
   "metadata": {},
   "outputs": [],
   "source": [
    "def build_model(img_shape : tuple[int,int,int], num_classes: int) -> Model:\n",
    "    img_input = Input(img_shape)\n",
    "    x = Conv2D(filters=16, kernel_size=3, padding = \"same\")(img_input)\n",
    "    x = Activation(\"relu\")(x)\n",
    "    x = Conv2D(filters=16, kernel_size=3)(x)\n",
    "    x = Activation(\"relu\")(x)\n",
    "    x = MaxPooling2D()(x)\n",
    "    x = Conv2D(filters=32, kernel_size=3)(x)\n",
    "    x = Activation(\"relu\")(x)\n",
    "    x = Conv2D(filters=32, kernel_size=3)(x)\n",
    "    x = Activation(\"relu\")(x)\n",
    "    x = MaxPooling2D()(x)\n",
    "     \n",
    "    x = Flatten()(x)\n",
    "    x = Dense(units=128)(x)\n",
    "    x = Activation(\"relu\")(x)\n",
    "    x = Dense(units=num_classes)(x)\n",
    "    y_pred = Activation(\"softmax\")(x)\n",
    "    \n",
    "    model = Model(\n",
    "        inputs=[img_input],\n",
    "        outputs=[y_pred]\n",
    "    )\n",
    "    return model"
   ]
  },
  {
   "attachments": {},
   "cell_type": "markdown",
   "metadata": {},
   "source": [
    "Train the Model"
   ]
  },
  {
   "cell_type": "code",
   "execution_count": 9,
   "metadata": {},
   "outputs": [
    {
     "name": "stdout",
     "output_type": "stream",
     "text": [
      "x shape: (55000, 32, 32, 3)   y shape: (55000, 10)\n",
      "Model: \"model_2\"\n",
      "_________________________________________________________________\n",
      " Layer (type)                Output Shape              Param #   \n",
      "=================================================================\n",
      " input_3 (InputLayer)        [(None, 32, 32, 3)]       0         \n",
      "                                                                 \n",
      " conv2d_8 (Conv2D)           (None, 32, 32, 16)        448       \n",
      "                                                                 \n",
      " activation_12 (Activation)  (None, 32, 32, 16)        0         \n",
      "                                                                 \n",
      " conv2d_9 (Conv2D)           (None, 30, 30, 16)        2320      \n",
      "                                                                 \n",
      " activation_13 (Activation)  (None, 30, 30, 16)        0         \n",
      "                                                                 \n",
      " max_pooling2d_4 (MaxPooling  (None, 15, 15, 16)       0         \n",
      " 2D)                                                             \n",
      "                                                                 \n",
      " conv2d_10 (Conv2D)          (None, 13, 13, 32)        4640      \n",
      "                                                                 \n",
      " activation_14 (Activation)  (None, 13, 13, 32)        0         \n",
      "                                                                 \n",
      " conv2d_11 (Conv2D)          (None, 11, 11, 32)        9248      \n",
      "                                                                 \n",
      " activation_15 (Activation)  (None, 11, 11, 32)        0         \n",
      "                                                                 \n",
      " max_pooling2d_5 (MaxPooling  (None, 5, 5, 32)         0         \n",
      " 2D)                                                             \n",
      "                                                                 \n",
      " flatten_2 (Flatten)         (None, 800)               0         \n",
      "                                                                 \n",
      " dense_4 (Dense)             (None, 128)               102528    \n",
      "                                                                 \n",
      " activation_16 (Activation)  (None, 128)               0         \n",
      "                                                                 \n",
      " dense_5 (Dense)             (None, 10)                1290      \n",
      "                                                                 \n",
      " activation_17 (Activation)  (None, 10)                0         \n",
      "                                                                 \n",
      "=================================================================\n",
      "Total params: 120,474\n",
      "Trainable params: 120,474\n",
      "Non-trainable params: 0\n",
      "_________________________________________________________________\n",
      "Epoch 1/10\n",
      "430/430 [==============================] - 32s 74ms/step - loss: 1.6607 - accuracy: 0.3965 - val_loss: 1.4103 - val_accuracy: 0.4841\n",
      "Epoch 2/10\n",
      "430/430 [==============================] - 33s 77ms/step - loss: 1.3076 - accuracy: 0.5344 - val_loss: 1.1882 - val_accuracy: 0.5694\n",
      "Epoch 3/10\n",
      "430/430 [==============================] - 33s 77ms/step - loss: 1.1663 - accuracy: 0.5888 - val_loss: 1.1189 - val_accuracy: 0.5941\n",
      "Epoch 4/10\n",
      "430/430 [==============================] - 33s 78ms/step - loss: 1.0605 - accuracy: 0.6291 - val_loss: 1.0419 - val_accuracy: 0.6318\n",
      "Epoch 5/10\n",
      "430/430 [==============================] - 35s 81ms/step - loss: 0.9698 - accuracy: 0.6624 - val_loss: 0.9876 - val_accuracy: 0.6603\n",
      "Epoch 6/10\n",
      "430/430 [==============================] - 32s 74ms/step - loss: 0.8997 - accuracy: 0.6876 - val_loss: 0.9306 - val_accuracy: 0.6709\n",
      "Epoch 7/10\n",
      "430/430 [==============================] - 34s 80ms/step - loss: 0.8487 - accuracy: 0.7059 - val_loss: 0.9325 - val_accuracy: 0.6700\n",
      "Epoch 8/10\n",
      "430/430 [==============================] - 34s 80ms/step - loss: 0.7949 - accuracy: 0.7236 - val_loss: 0.8756 - val_accuracy: 0.7035\n",
      "Epoch 9/10\n",
      "430/430 [==============================] - 35s 81ms/step - loss: 0.7509 - accuracy: 0.7401 - val_loss: 0.8947 - val_accuracy: 0.6982\n",
      "Epoch 10/10\n",
      "430/430 [==============================] - 33s 76ms/step - loss: 0.7096 - accuracy: 0.7539 - val_loss: 0.8525 - val_accuracy: 0.7094\n"
     ]
    }
   ],
   "source": [
    "model = build_model(img_shape=img_shape,num_classes=num_classes)\n",
    "\n",
    "model.summary()\n",
    "\n",
    "model.compile(loss=\"categorical_crossentropy\",\n",
    "              optimizer=Adam(learning_rate=0.001),\n",
    "              metrics=[\"accuracy\"])\n",
    "\n",
    "tb_callback = TensorBoard(\n",
    "    log_dir=MODEL_LOGS_DIR, histogram_freq=1, write_graph=True\n",
    ")\n",
    "\n",
    "history = model.fit (x=x_train, \n",
    "           y=y_train, \n",
    "           epochs=10, \n",
    "           batch_size=128, \n",
    "           verbose=1, \n",
    "           validation_data=(x_val, y_val),\n",
    "           callbacks=[tb_callback])\n"
   ]
  },
  {
   "attachments": {},
   "cell_type": "markdown",
   "metadata": {},
   "source": [
    "Plot Accuracy"
   ]
  },
  {
   "cell_type": "code",
   "execution_count": 15,
   "metadata": {},
   "outputs": [
    {
     "name": "stdout",
     "output_type": "stream",
     "text": [
      "207/207 [==============================] - 1s 5ms/step - loss: 0.8467 - accuracy: 0.7103\n",
      "Score: [0.8466905355453491, 0.710303008556366]\n"
     ]
    },
    {
     "data": {
      "image/png": "[encoded data removed]",
      "text/plain": [
       "<Figure size 640x480 with 1 Axes>"
      ]
     },
     "metadata": {},
     "output_type": "display_data"
    }
   ],
   "source": [
    "scores = model.evaluate(x=x_test, y=y_test)\n",
    "print(f\"Score: {scores}\")\n",
    "\n",
    "plt.plot(history.history['accuracy'])\n",
    "plt.plot(history.history['val_accuracy'])\n",
    "plt.title('model accuracy')\n",
    "plt.ylabel('accuracy')\n",
    "plt.xlabel('epoch')\n",
    "plt.legend(['train', 'validation'], loc='upper left')\n",
    "plt.show()"
   ]
  },
  {
   "attachments": {},
   "cell_type": "markdown",
   "metadata": {},
   "source": [
    "Download Model/Weights"
   ]
  },
  {
   "cell_type": "code",
   "execution_count": null,
   "metadata": {},
   "outputs": [],
   "source": [
    "#weights\n",
    "model.save_weights(filepath=MODEL_FILE_PATH)\n",
    "model.save(filepath=FULL_MODEL_FILE_PATH)"
   ]
  },
  {
   "attachments": {},
   "cell_type": "markdown",
   "metadata": {},
   "source": [
    "Load Model/Weights"
   ]
  },
  {
   "cell_type": "code",
   "execution_count": null,
   "metadata": {},
   "outputs": [],
   "source": [
    "model.load_weights(filepath=MODEL_FILE_PATH)\n",
    "model = load_model(filepath=FULL_MODEL_FILE_PATH)"
   ]
  }
 ],
 "metadata": {
  "kernelspec": {
   "display_name": "data_science",
   "language": "python",
   "name": "python3"
  },
  "language_info": {
   "codemirror_mode": {
    "name": "ipython",
    "version": 3
   },
   "file_extension": ".py",
   "mimetype": "text/x-python",
   "name": "python",
   "nbconvert_exporter": "python",
   "pygments_lexer": "ipython3",
   "version": "3.11.2"
  },
  "orig_nbformat": 4
 },
 "nbformat": 4,
 "nbformat_minor": 2
}
