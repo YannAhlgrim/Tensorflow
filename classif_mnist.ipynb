{
 "cells": [
  {
   "cell_type": "code",
   "execution_count": 5,
   "metadata": {},
   "outputs": [],
   "source": [
    "import tensorflow as tf\n",
    "from keras.datasets import mnist\n",
    "from sklearn.preprocessing import OneHotEncoder\n",
    "from keras.models import Sequential\n",
    "from keras.layers import Dense\n",
    "from keras.layers import Conv2D\n",
    "from keras.layers import Activation\n",
    "from keras.optimizers import Adam\n",
    "from keras.optimizers import SGD\n",
    "from keras.optimizers import RMSprop\n",
    "from keras.utils import to_categorical\n",
    "from keras.initializers import RandomUniform\n",
    "from keras.initializers import Constant\n",
    "import numpy as np\n",
    "import matplotlib.pyplot as plt"
   ]
  },
  {
   "attachments": {},
   "cell_type": "markdown",
   "metadata": {},
   "source": [
    "Preprocessing"
   ]
  },
  {
   "cell_type": "code",
   "execution_count": 2,
   "metadata": {},
   "outputs": [],
   "source": [
    "def get_dataset(num_features: int, num_classes) -> tuple[tuple[np.ndarray, np.ndarray], tuple[np.ndarray, np.ndarray]]:\n",
    "    (x_train, y_train), (x_test, y_test) = mnist.load_data()\n",
    "    print (f\"x shape: {x_train.shape}   y shape: {y_train.shape}\")\n",
    "    x_train = x_train.reshape(-1, num_features).astype(np.float32)\n",
    "    x_test = x_test.reshape(-1, num_features).astype(np.float32)\n",
    "    y_train = to_categorical(y_train, num_classes=num_classes, dtype=np.float32)\n",
    "    y_test = to_categorical(y_test, num_classes=num_classes, dtype=np.float32)\n",
    "    return (x_train, y_train), (x_test, y_test)\n"
   ]
  },
  {
   "cell_type": "code",
   "execution_count": 9,
   "metadata": {},
   "outputs": [],
   "source": [
    "def build_model(num_features, num_classes) -> Sequential:\n",
    "    init_w = RandomUniform(minval=-0.05, maxval=0.05)\n",
    "    init_b = Constant(value=0.0)\n",
    "    model = Sequential()\n",
    "    model.add(Dense(units=256, input_shape=(num_features,),\n",
    "                    kernel_initializer=init_w, bias_initializer=init_b))\n",
    "    model.add(Activation(\"relu\"))\n",
    "    model.add(Dense(units=128, input_shape=(num_features,),\n",
    "                    kernel_initializer=init_w, bias_initializer=init_b))\n",
    "    model.add(Activation(\"relu\"))\n",
    "    model.add(Dense(units=64, input_shape=(num_features,),\n",
    "                    kernel_initializer=init_w, bias_initializer=init_b))\n",
    "    model.add(Activation(\"relu\"))\n",
    "    model.add(Dense(units=num_classes))\n",
    "    model.add(Activation(\"softmax\"))\n",
    "    return model"
   ]
  },
  {
   "attachments": {},
   "cell_type": "markdown",
   "metadata": {},
   "source": [
    "Train the Model"
   ]
  },
  {
   "cell_type": "code",
   "execution_count": 14,
   "metadata": {},
   "outputs": [
    {
     "name": "stdout",
     "output_type": "stream",
     "text": [
      "x shape: (60000, 28, 28)   y shape: (60000,)\n",
      "Model: \"sequential_5\"\n",
      "_________________________________________________________________\n",
      " Layer (type)                Output Shape              Param #   \n",
      "=================================================================\n",
      " dense_20 (Dense)            (None, 256)               200960    \n",
      "                                                                 \n",
      " activation_20 (Activation)  (None, 256)               0         \n",
      "                                                                 \n",
      " dense_21 (Dense)            (None, 128)               32896     \n",
      "                                                                 \n",
      " activation_21 (Activation)  (None, 128)               0         \n",
      "                                                                 \n",
      " dense_22 (Dense)            (None, 64)                8256      \n",
      "                                                                 \n",
      " activation_22 (Activation)  (None, 64)                0         \n",
      "                                                                 \n",
      " dense_23 (Dense)            (None, 10)                650       \n",
      "                                                                 \n",
      " activation_23 (Activation)  (None, 10)                0         \n",
      "                                                                 \n",
      "=================================================================\n",
      "Total params: 242,762\n",
      "Trainable params: 242,762\n",
      "Non-trainable params: 0\n",
      "_________________________________________________________________\n",
      "Epoch 1/10\n"
     ]
    },
    {
     "name": "stderr",
     "output_type": "stream",
     "text": [
      "c:\\Users\\yann.MSI\\anaconda3\\envs\\data_science\\Lib\\site-packages\\keras\\initializers\\initializers.py:120: UserWarning: The initializer RandomUniform is unseeded and being called multiple times, which will return identical values each time (even if the initializer is unseeded). Please update your code to provide a seed to the initializer, or avoid using the same initalizer instance more than once.\n",
      "  warnings.warn(\n"
     ]
    },
    {
     "name": "stdout",
     "output_type": "stream",
     "text": [
      "469/469 [==============================] - 2s 3ms/step - loss: 0.2738 - accuracy: 0.9194 - val_loss: 0.1461 - val_accuracy: 0.9562\n",
      "Epoch 2/10\n",
      "469/469 [==============================] - 1s 2ms/step - loss: 0.1141 - accuracy: 0.9659 - val_loss: 0.1333 - val_accuracy: 0.9607\n",
      "Epoch 3/10\n",
      "469/469 [==============================] - 1s 2ms/step - loss: 0.0860 - accuracy: 0.9732 - val_loss: 0.1233 - val_accuracy: 0.9639\n",
      "Epoch 4/10\n",
      "469/469 [==============================] - 1s 2ms/step - loss: 0.0710 - accuracy: 0.9788 - val_loss: 0.1242 - val_accuracy: 0.9634\n",
      "Epoch 5/10\n",
      "469/469 [==============================] - 1s 2ms/step - loss: 0.0628 - accuracy: 0.9806 - val_loss: 0.1120 - val_accuracy: 0.9723\n",
      "Epoch 6/10\n",
      "469/469 [==============================] - 1s 2ms/step - loss: 0.0559 - accuracy: 0.9833 - val_loss: 0.1207 - val_accuracy: 0.9718\n",
      "Epoch 7/10\n",
      "469/469 [==============================] - 1s 2ms/step - loss: 0.0485 - accuracy: 0.9847 - val_loss: 0.0951 - val_accuracy: 0.9763\n",
      "Epoch 8/10\n",
      "469/469 [==============================] - 1s 2ms/step - loss: 0.0454 - accuracy: 0.9861 - val_loss: 0.1030 - val_accuracy: 0.9748\n",
      "Epoch 9/10\n",
      "469/469 [==============================] - 1s 2ms/step - loss: 0.0436 - accuracy: 0.9868 - val_loss: 0.1021 - val_accuracy: 0.9763\n",
      "Epoch 10/10\n",
      "469/469 [==============================] - 1s 2ms/step - loss: 0.0380 - accuracy: 0.9886 - val_loss: 0.0960 - val_accuracy: 0.9771\n",
      "313/313 [==============================] - 0s 1ms/step - loss: 0.0960 - accuracy: 0.9771\n",
      "Score: [0.09600897133350372, 0.9771000146865845]\n"
     ]
    },
    {
     "data": {
      "image/png": "[encoded data removed]",
      "text/plain": [
       "<Figure size 640x480 with 1 Axes>"
      ]
     },
     "metadata": {},
     "output_type": "display_data"
    }
   ],
   "source": [
    "num_features = 784\n",
    "num_classes = 10\n",
    "(x_train, y_train), (x_test, y_test) = get_dataset(num_features, num_classes)\n",
    "\n",
    "model = build_model(num_features=num_features, num_classes=num_classes)\n",
    "\n",
    "model.summary()\n",
    "\n",
    "model.compile(loss=\"categorical_crossentropy\",\n",
    "              optimizer=Adam(learning_rate=0.001),\n",
    "              metrics=[\"accuracy\"])\n",
    "\n",
    "history = model.fit (x=x_train, \n",
    "           y=y_train, \n",
    "           epochs=10, \n",
    "           batch_size=128, \n",
    "           verbose=1, \n",
    "           validation_data=(x_test, y_test))\n",
    "\n",
    "scores = model.evaluate(x=x_test, y=y_test)\n",
    "\n",
    "print(f\"Score: {scores}\")\n",
    "\n",
    "# summarize history for loss\n",
    "plt.plot(history.history['accuracy'])\n",
    "plt.plot(history.history['val_accuracy'])\n",
    "plt.title('model accuracy')\n",
    "plt.ylabel('accuracy')\n",
    "plt.xlabel('epoch')\n",
    "plt.legend(['train', 'validation'], loc='upper left')\n",
    "plt.show()"
   ]
  },
  {
   "cell_type": "code",
   "execution_count": null,
   "metadata": {},
   "outputs": [],
   "source": []
  }
 ],
 "metadata": {
  "kernelspec": {
   "display_name": "data_science",
   "language": "python",
   "name": "python3"
  },
  "language_info": {
   "codemirror_mode": {
    "name": "ipython",
    "version": 3
   },
   "file_extension": ".py",
   "mimetype": "text/x-python",
   "name": "python",
   "nbconvert_exporter": "python",
   "pygments_lexer": "ipython3",
   "version": "3.11.2"
  },
  "orig_nbformat": 4
 },
 "nbformat": 4,
 "nbformat_minor": 2
}
